{
 "cells": [
  {
   "cell_type": "code",
   "execution_count": null,
   "metadata": {},
   "outputs": [],
   "source": []
  },
  {
   "cell_type": "markdown",
   "metadata": {},
   "source": [
    "# 7FNCE043W Artificial Intelligence and Machine Learning in Finance Services"
   ]
  },
  {
   "cell_type": "code",
   "execution_count": null,
   "metadata": {},
   "outputs": [],
   "source": [
    "#importing the necessary libraries\n",
    "\n",
    "import pandas as pd # mathematical analysis library\n",
    "import numpy as np # number and array manipulation\n",
    "import matplotlib.pyplot as plt #  for plotting\n",
    "import statistics as stats #Stats library\n",
    "from sklearn.model_selection import train_test_split\n",
    "from sklearn.linear_model import LinearRegression\n",
    "from sklearn.metrics import mean_squared_error\n",
    "import seaborn as sns\n",
    "import yfinance as yf\n",
    "from ta.volume import MFIIndicator\n",
    "import ta\n",
    "from ta.momentum import roc  # Techinical Analysis library for feature generation\n",
    "from ta import add_all_ta_features as ta\n",
    "from sklearn.preprocessing import MinMaxScaler, StandardScaler\n",
    "#from ta.volatility import bollinger_bands"
   ]
  },
  {
   "cell_type": "code",
   "execution_count": null,
   "metadata": {},
   "outputs": [],
   "source": [
    "ticker = \"BCS\"\n",
    "start = \"2014-03-04\"\n",
    "end = \"2024-03-06\"\n",
    "df = yf.download(ticker, start =start, end=end)"
   ]
  },
  {
   "cell_type": "code",
   "execution_count": null,
   "metadata": {},
   "outputs": [],
   "source": [
    "# making new variables for the df\n",
    "\n",
    "open = df\n",
    "high = df['High']\n",
    "low = df['Low']\n",
    "close=  df['Close']\n",
    "adjclose = df['Adj Close'] \n",
    "volume = df['Volume']"
   ]
  },
  {
   "cell_type": "code",
   "execution_count": null,
   "metadata": {},
   "outputs": [],
   "source": []
  },
  {
   "cell_type": "code",
   "execution_count": null,
   "metadata": {},
   "outputs": [],
   "source": [
    "df.describe()\n",
    "total = sum(df['Adj Close'].value_counts()) # total number of trading days"
   ]
  },
  {
   "cell_type": "code",
   "execution_count": null,
   "metadata": {},
   "outputs": [],
   "source": [
    "plt.figure(figsize=(15, 5))\n",
    "plt.plot(adjclose, color='red')\n",
    "plt.ylabel('Price $')\n",
    "plt.xlabel('Date')\n",
    "plt.ylim()\n",
    "plt.xlim()\n",
    "plt.grid()\n",
    "\n"
   ]
  },
  {
   "cell_type": "code",
   "execution_count": null,
   "metadata": {},
   "outputs": [],
   "source": [
    "returns = df['Close'].pct_change()\n",
    "annualised_returns = (returns.mean() * 252).round(5) \n",
    "print(f'annualised returns: {annualised_returns}')"
   ]
  },
  {
   "cell_type": "markdown",
   "metadata": {},
   "source": [
    "##  Features For Feature Selection\n"
   ]
  },
  {
   "cell_type": "markdown",
   "metadata": {},
   "source": [
    "##### Feature 1 : Daily Returns, The percentage change in price from the previous day's closing price."
   ]
  },
  {
   "cell_type": "code",
   "execution_count": null,
   "metadata": {},
   "outputs": [],
   "source": [
    "import ta\n",
    "dprice_pct = ta.others.daily_return(close, fillna=True)\n",
    "df['drr'] = dprice_pct\n",
    "\n",
    "df['drr']"
   ]
  },
  {
   "cell_type": "code",
   "execution_count": null,
   "metadata": {},
   "outputs": [],
   "source": [
    "dprice_pct.describe()"
   ]
  },
  {
   "cell_type": "code",
   "execution_count": null,
   "metadata": {},
   "outputs": [],
   "source": [
    "plt.figure(figsize =(15, 5))\n",
    "plt.plot(dprice_pct, color ='blue', linewidth=0.5, alpha=0.1)\n",
    "plt.fill_between(dprice_pct.index, 0, dprice_pct.where(dprice_pct > 0), facecolor='green', interpolate=True, label='Positive gains')\n",
    "plt.fill_between(dprice_pct.index, 0, dprice_pct.where(dprice_pct < 0), facecolor='red', interpolate=True, label='Negative gains')\n",
    "plt.grid()\n",
    "plt.xticks(rotation =45)\n",
    "plt.yticks()\n",
    "plt.legend()"
   ]
  },
  {
   "cell_type": "markdown",
   "metadata": {},
   "source": [
    "##### Feature 2: Rate of change (Momentum)"
   ]
  },
  {
   "cell_type": "code",
   "execution_count": null,
   "metadata": {},
   "outputs": [],
   "source": [
    "df['ROC'] = roc(df['Close'], window=20,fillna=True) # Rate of Change in momentum separted in 252 days to accouont for trading"
   ]
  },
  {
   "cell_type": "code",
   "execution_count": null,
   "metadata": {},
   "outputs": [],
   "source": [
    "plt.figure(figsize=(20, 5))\n",
    "plt.plot(df['ROC'], linewidth= 0.2)\n",
    "plt.fill_between(df['ROC'].index, 0, df['ROC'].where(df['ROC'] > 0), facecolor='green', interpolate=True, label='Positive gains',linewidth=2)\n",
    "plt.fill_between(df['ROC'].index, 0, df['ROC'].where(df['ROC'] < 0), facecolor='red', interpolate=True, label='Negative gains')\n",
    "plt.grid()\n",
    "plt.ylabel('% change')\n",
    "plt.xlabel('Date')\n",
    "plt.tight_layout()\n",
    "plt.xticks(rotation= 45)"
   ]
  },
  {
   "cell_type": "markdown",
   "metadata": {},
   "source": [
    "##### Feature 3: Money Flow Index"
   ]
  },
  {
   "cell_type": "code",
   "execution_count": null,
   "metadata": {},
   "outputs": [],
   "source": [
    "\n",
    "mfi_values = ta.volume.money_flow_index(high=high, low=low, close=close, volume=volume, window=252, fillna=True)\n",
    "df['mfi'] = mfi_values"
   ]
  },
  {
   "cell_type": "code",
   "execution_count": null,
   "metadata": {},
   "outputs": [],
   "source": [
    "df['mfi'].describe()"
   ]
  },
  {
   "cell_type": "code",
   "execution_count": null,
   "metadata": {},
   "outputs": [],
   "source": [
    "plt.figure(figsize=(10, 5))\n",
    "plt.plot(df['mfi'], linewidth= 1, alpha=1)\n",
    "plt.tight_layout()\n",
    "plt.grid()\n",
    "plt.title('money flow index')\n",
    "plt.ylabel('money flow index')\n",
    "plt.xlabel('Date')\n",
    "plt.xlim()\n",
    "plt.xticks(rotation= 45)"
   ]
  },
  {
   "cell_type": "markdown",
   "metadata": {},
   "source": [
    "#### Feature 4: Relative Strength Index"
   ]
  },
  {
   "cell_type": "code",
   "execution_count": null,
   "metadata": {},
   "outputs": [],
   "source": [
    "df['rsi'] = ta.momentum.rsi(close, window=252,fillna=True)"
   ]
  },
  {
   "cell_type": "code",
   "execution_count": null,
   "metadata": {},
   "outputs": [],
   "source": [
    "df['rsi'].describe()"
   ]
  },
  {
   "cell_type": "code",
   "execution_count": null,
   "metadata": {},
   "outputs": [],
   "source": [
    "plt.figure(figsize=(10, 5))\n",
    "plt.plot(df['rsi'], linewidth= 1, alpha=1)\n",
    "plt.tight_layout()\n",
    "plt.grid()\n",
    "plt.title('relative strength index')\n",
    "plt.ylabel('% change')\n",
    "plt.xlabel('Date')\n",
    "plt.xlim()\n",
    "plt.xticks(rotation= 45)"
   ]
  },
  {
   "cell_type": "markdown",
   "metadata": {},
   "source": [
    "#### Feature 5: Bollinger Band Width"
   ]
  },
  {
   "cell_type": "code",
   "execution_count": null,
   "metadata": {},
   "outputs": [],
   "source": [
    "bb = ta.volatility.BollingerBands(close, window =252, window_dev=2, fillna=True)\n",
    "bandwidth_values = bb.bollinger_wband()\n",
    "df['bollbandbwidth'] = bandwidth_values"
   ]
  },
  {
   "cell_type": "code",
   "execution_count": null,
   "metadata": {},
   "outputs": [],
   "source": [
    "df['bollbandbwidth'].describe()"
   ]
  },
  {
   "cell_type": "code",
   "execution_count": null,
   "metadata": {},
   "outputs": [],
   "source": [
    "plt.figure(figsize=(10, 5))\n",
    "plt.plot(df['bollbandbwidth'], linewidth= 1, alpha=1)\n",
    "plt.tight_layout()\n",
    "plt.grid()\n",
    "plt.title('bollinger band width')\n",
    "plt.ylabel('Band Width')\n",
    "plt.xlabel('Date')\n",
    "plt.xlim()\n",
    "plt.xticks(rotation= 45)"
   ]
  },
  {
   "cell_type": "markdown",
   "metadata": {},
   "source": [
    "#### Feature 6: Avg True Range"
   ]
  },
  {
   "cell_type": "code",
   "execution_count": null,
   "metadata": {},
   "outputs": [],
   "source": [
    "atr = ta.volatility.AverageTrueRange(high, low, close, window = 252, fillna=True)\n",
    "atr_values = atr.average_true_range()\n",
    "df['atr'] = atr_values"
   ]
  },
  {
   "cell_type": "code",
   "execution_count": null,
   "metadata": {},
   "outputs": [],
   "source": [
    "df['atr'].describe()"
   ]
  },
  {
   "cell_type": "code",
   "execution_count": null,
   "metadata": {},
   "outputs": [],
   "source": [
    "plt.figure(figsize=(10, 5))\n",
    "plt.plot(df['atr'], linewidth= 1, alpha=1)\n",
    "plt.tight_layout()\n",
    "plt.grid()\n",
    "plt.title('Avg True Range')\n",
    "plt.ylabel('% change')\n",
    "plt.xlabel('Date')\n",
    "plt.xlim()\n",
    "plt.xticks(rotation= 45)"
   ]
  },
  {
   "cell_type": "markdown",
   "metadata": {},
   "source": [
    "#### Feature 7: On-Balance Volume"
   ]
  },
  {
   "cell_type": "code",
   "execution_count": null,
   "metadata": {},
   "outputs": [],
   "source": [
    "obv = ta.volume.OnBalanceVolumeIndicator(close,volume, fillna=True)\n",
    "obv_values = obv.on_balance_volume()\n",
    "df['obv'] = obv_values"
   ]
  },
  {
   "cell_type": "code",
   "execution_count": null,
   "metadata": {},
   "outputs": [],
   "source": []
  },
  {
   "cell_type": "code",
   "execution_count": null,
   "metadata": {},
   "outputs": [],
   "source": [
    "plt.figure(figsize=(10, 5))\n",
    "plt.plot(df['obv'], linewidth= 1, alpha=0.1)\n",
    "plt.tight_layout()\n",
    "plt.grid()\n",
    "plt.title('On-Balance Volume')\n",
    "plt.ylabel('% change')\n",
    "plt.xlabel('Date')\n",
    "plt.xlim()\n",
    "plt.xticks(rotation= 45)\n",
    "plt.fill_between(df['obv'].index, 0, df['obv'].where(df['obv'] > 0), facecolor='green', interpolate=True, label='Positive gains',linewidth=2)\n",
    "plt.fill_between(df['obv'].index, 0, df['obv'].where(df['obv'] < 0), facecolor='red', interpolate=True, label='Negative gains')\n"
   ]
  },
  {
   "cell_type": "markdown",
   "metadata": {},
   "source": [
    "#### Feature 8: Daily Log Returns "
   ]
  },
  {
   "cell_type": "code",
   "execution_count": null,
   "metadata": {},
   "outputs": [],
   "source": [
    "dlr_values = ta.others.daily_log_return(close, fillna=True)\n",
    "df['dlr'] = dlr_values"
   ]
  },
  {
   "cell_type": "code",
   "execution_count": null,
   "metadata": {},
   "outputs": [],
   "source": [
    "plt.figure(figsize=(10, 5))\n",
    "plt.plot(df['dlr'], linewidth= 1, alpha=0.1)\n",
    "plt.tight_layout()\n",
    "plt.grid()\n",
    "plt.title('Daily Log Returns')\n",
    "plt.fill_between(df['dlr'].index, 0, df['dlr'].where(df['dlr'] > 0), facecolor='green', interpolate=True, label='Positive gains',linewidth=2)\n",
    "plt.fill_between(df['dlr'].index, 0, df['dlr'].where(df['dlr'] < 0), facecolor='red', interpolate=True, label='Negative gains')\n",
    "\n",
    "plt.ylabel('')\n",
    "plt.xlabel('Date')\n",
    "plt.xlim()\n",
    "plt.xticks(rotation= 45)"
   ]
  },
  {
   "cell_type": "markdown",
   "metadata": {},
   "source": [
    "## Data Normalisation"
   ]
  },
  {
   "cell_type": "code",
   "execution_count": null,
   "metadata": {},
   "outputs": [],
   "source": [
    "df_features= pd.DataFrame({\n",
    "    'adjclose' : df['Adj Close'],\n",
    "    'roc' : df['ROC'], \n",
    "    'atr' : df['atr'],\n",
    "    'obv' : df['obv'],\n",
    "    'rsi' : df['rsi'],\n",
    "    'bollbw': df['bollbandbwidth'],\n",
    "    'dlr': df['dlr'],\n",
    "    'mfi' : df['mfi'],\n",
    "    'daily_returns' : df['drr']\n",
    "     })\n"
   ]
  },
  {
   "cell_type": "code",
   "execution_count": null,
   "metadata": {},
   "outputs": [],
   "source": [
    "# Initialize the scaler\n",
    "scaler = StandardScaler()\n",
    "\n",
    "# Fit the scaler to your data and transform it\n",
    "X_train_scaled = scaler.fit_transform(X_train)\n",
    "X_test_scaled = scaler.transform(X_test)\n",
    "\n",
    "# Train your linear regression model using the scaled data\n",
    "model.fit(X_train_scaled, y_train)\n",
    "\n",
    "# Make predictions and evaluate the model\n",
    "y_pred_scaled = model.predict(X_test_scaled)\n",
    "mse_scaled = mean_squared_error(y_test, y_pred_scaled)\n",
    "print(f\"Scaled Mean Squared Error: {mse_scaled}\")\n",
    "\n",
    "df_features\n"
   ]
  },
  {
   "cell_type": "markdown",
   "metadata": {},
   "source": [
    "## Model Selection"
   ]
  },
  {
   "cell_type": "markdown",
   "metadata": {},
   "source": [
    "#### Linear Regression Model"
   ]
  },
  {
   "cell_type": "code",
   "execution_count": null,
   "metadata": {},
   "outputs": [],
   "source": [
    "df_features"
   ]
  },
  {
   "cell_type": "code",
   "execution_count": null,
   "metadata": {},
   "outputs": [],
   "source": [
    "X_train, X_test, y_train, y_test = train_test_split(df_features, df_features['adjclose'], test_size=0.15, random_state=42)\n",
    "\n",
    "#\n",
    "model = LinearRegression()\n",
    "\n",
    "# Train the model using the training sets\n",
    "model.fit(X_train, y_train)\n",
    "\n",
    "# Make predictions on the testing set\n",
    "y_pred = model.predict(X_test)\n",
    "\n",
    "# Evaluate the model\n",
    "mse = mean_squared_error(y_test, y_pred)\n",
    "print(f\"Mean Squared Error: {mse}\")\n",
    "\n",
    "# Optionally, you can also print the coefficients of the linear regression model\n",
    "print(\"Coefficient:\", model.coef_)\n"
   ]
  },
  {
   "cell_type": "code",
   "execution_count": null,
   "metadata": {},
   "outputs": [],
   "source": []
  }
 ],
 "metadata": {
  "kernelspec": {
   "display_name": "Python 3 (ipykernel)",
   "language": "python",
   "name": "python3"
  },
  "language_info": {
   "codemirror_mode": {
    "name": "ipython",
    "version": 3
   },
   "file_extension": ".py",
   "mimetype": "text/x-python",
   "name": "python",
   "nbconvert_exporter": "python",
   "pygments_lexer": "ipython3",
   "version": "3.11.3"
  }
 },
 "nbformat": 4,
 "nbformat_minor": 2
}
